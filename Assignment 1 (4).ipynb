{
 "cells": [
  {
   "cell_type": "markdown",
   "id": "a6c8e9c1-42f1-4dd5-a0a5-9a34b9293656",
   "metadata": {},
   "source": [
    "# Question 1:- In the below elements which of them are values or an expression? eg:- values can be\n",
    "integer or string and expressions will be mathematical operators.\n",
    "* \n",
    "'hello';\n",
    "-87.8\n",
    "-\n",
    "/\n",
    "+\n",
    "6\n",
    "\n",
    "Answer 1 :- \n",
    "\n",
    "* it is a mathematical operator and used to multiply and two integer values \n",
    "\n",
    "'hello' it is a string value.\n",
    "\n",
    "-87.8 it is a float.\n",
    "\n",
    "- it is an mathematical operator used to subtract two integers vale .\n",
    "\n",
    "/ it is an mathematical operator used to do the Division of two integers value .\n",
    "\n",
    "+ it is an mathematical operator used to Add two integers value\n",
    "\n",
    "6 it is an Integer Value.\n"
   ]
  },
  {
   "cell_type": "markdown",
   "id": "6768d3ef-a6a4-4274-a66b-e615f12af9dd",
   "metadata": {},
   "source": [
    "2. What is the difference between string and variable?\n",
    "\n",
    "Answer 2:- \n",
    "\n",
    "Variables:- These are the symbols or a type of characters where we store the values or data in the memory so that we can use them in the code further . It is basically a stored information in memmory.  example :- a = 23(here a is the variable and 23 is the data stored in it )\n",
    "\n",
    "String:- There are the type of a data that is stored in a declated variable. It can be any alphabate or group of alphabate . We can declare it by typing the data inside the \" \" or ' '. Any thing Typed inside \" \" or ' ' is treated as string . Example:- 'apple', \"apple\", '12'.\n",
    "\n",
    "\n"
   ]
  },
  {
   "cell_type": "markdown",
   "id": "69c549eb-7682-458b-b024-a44b945fa503",
   "metadata": {},
   "source": [
    "3. Describe three different data types.\n",
    "\n",
    "Answer 3:- \n",
    "Integers: - whole number without a fractional file that can be positive and negative. example x=3, a=-4\n",
    "\n",
    "Floats: - it represents ral numbers and are written with decimal point.  example x= 3.4\n",
    "\n",
    "String :- character data . x=\"archit\", x='archit'.\n",
    "\n"
   ]
  },
  {
   "cell_type": "markdown",
   "id": "aa5523bf-93c8-4240-aebb-21c4da89620e",
   "metadata": {},
   "source": [
    "4. What is an expression made up of? What do all expressions do?\n",
    "\n",
    "Answer:- The expressions are the combination of the operators and the valuse(Operand on which the operation is to be done) that are interpreated together to provide some desired result.\n",
    "example :=  x= 2+3, this is an expression .\n",
    "\n",
    "Constant Expressions:-\n",
    "Constant expressions in Python are expressions that include solely constant values. The operator(s) in a constant expression in Python is a constant. A constant is a value that cannot be changed after its initialization. x=2+3\n",
    "\n",
    "Arithmetic:- \n",
    "An arithmetic expression is a Python expression that comprises a mix of operators, operands, and occasionally parentheses. \n",
    "x+y,x-y etc \n",
    "\n",
    "Integral Expressions\n",
    "In Python, an integral expression is used for calculations and type conversion (for example, integer to float, text to integer).\n",
    "\n",
    "Floating Expression:- \n",
    "In Python, a floating expression is used for calculations and type conversion (for example, integer to float, text to integer).\n",
    "\n",
    "Relational Expressions\n",
    "In Python, a relational expression is a combination of two or more arithmetic expressions connected by relational operators.\n",
    "\n"
   ]
  },
  {
   "cell_type": "markdown",
   "id": "3df813d6-914f-4770-b0d3-1e785ebb17eb",
   "metadata": {},
   "source": [
    "5. This assignment statements, like spam = 10. What is the difference between an expression and a statement?\n",
    "\n",
    "Answer :- Statment in python is only used to declare or assign some value to a variable but if we talk about expression it actually produce some results after being interprated .\n"
   ]
  },
  {
   "cell_type": "markdown",
   "id": "78d54e88-9e0d-4961-b778-a231ba888ead",
   "metadata": {},
   "source": [
    "6. After running the following code, what does the variable bacon contain?\n",
    "bacon = 22\n",
    "bacon + 1\n",
    "\n",
    "Answer:- It is containing value as 22 as it is not storing the value of bacon again in the variable after performing operation of bacon+1. If it stores the value as bacon = bacon +1 and we print(bacon) it will show result as 23 .\n",
    "\n"
   ]
  },
  {
   "cell_type": "markdown",
   "id": "48f80b51-dac0-49de-95d3-dade187ae274",
   "metadata": {},
   "source": [
    "7. What should the values of the following two terms be?\n",
    "\"spam\" + \"spamspam\"\n",
    "\"spam\" * 3\n",
    "\n",
    "Answer:- The value will be 'spam' + 'spamspam' is 'spamspamspam'\n",
    "the vale for 'spam' * 3 is 'spamspamspam'"
   ]
  },
  {
   "cell_type": "markdown",
   "id": "e970ce18-7857-4373-a850-735559fe68bf",
   "metadata": {},
   "source": [
    "8. Why is eggs a valid variable name while 100 is invalid?\n",
    "\n",
    "Answer:- Because we cannot declare a variable name with a number , special character.\n",
    "thats why it is voilating the variable decleration rule .\n"
   ]
  },
  {
   "cell_type": "markdown",
   "id": "f606e1a2-2508-4868-827d-52c5a8e54460",
   "metadata": {},
   "source": [
    "9. What three functions can be used to get the integer, floating-point number, or string\n",
    "version of a value?\n",
    "\n",
    "Answer:- So the three different functions are \n",
    "\n",
    "int() for interger value.\n",
    "str() for string value.\n",
    "float() for decimal or float value."
   ]
  },
  {
   "cell_type": "markdown",
   "id": "d468c545-810a-4888-8075-e1167dbbfa72",
   "metadata": {},
   "source": [
    "10. Why does this expression cause an error? How can you fix it?\n",
    "'I have eaten' + 99 + 'burritos'\n",
    "\n",
    "Answer:-  This is because we cannot concatinate string and integer value. so first we need to convert the integer vale in to string using str() function so that it can concatinated .\n"
   ]
  }
 ],
 "metadata": {
  "kernelspec": {
   "display_name": "Python 3 (ipykernel)",
   "language": "python",
   "name": "python3"
  },
  "language_info": {
   "codemirror_mode": {
    "name": "ipython",
    "version": 3
   },
   "file_extension": ".py",
   "mimetype": "text/x-python",
   "name": "python",
   "nbconvert_exporter": "python",
   "pygments_lexer": "ipython3",
   "version": "3.10.6"
  }
 },
 "nbformat": 4,
 "nbformat_minor": 5
}
